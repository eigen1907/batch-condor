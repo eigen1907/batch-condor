{
 "cells": [
  {
   "cell_type": "code",
   "execution_count": 25,
   "metadata": {},
   "outputs": [
    {
     "name": "stderr",
     "output_type": "stream",
     "text": [
      "Info in <TCanvas::Print>: png file dqm-plot/workaround-2025-mu-pt10-globalMuons.png has been created\n"
     ]
    }
   ],
   "source": [
    "import ROOT, os, glob\n",
    "\n",
    "def plot_muon_eff_vs_eta(sample, geometries, muon='standAloneMuons', output_dir='dqm-plot'):\n",
    "    os.makedirs(output_dir, exist_ok=True)\n",
    "    colors = [ROOT.kBlack, ROOT.kBlue, ROOT.kRed, ROOT.kGreen, ROOT.kMagenta, ROOT.kCyan, ROOT.kOrange]\n",
    "    path = f'DQMData/Run 1/Muons/Run summary/RecoMuonV/MuonTrack/{muon}/effic_vs_eta'\n",
    "    hists = []\n",
    "    for i, geom in enumerate(geometries):\n",
    "        f = ROOT.TFile.Open(f'dqm-output/{sample}-{geom}.root')\n",
    "        h = f.Get(path).Clone(f'h_{i}')\n",
    "        h.SetDirectory(0)\n",
    "        h.SetTitle(\"GlobalMuon;#eta;efficiency\")  # \"Title;X-axis;Y-axis\"\n",
    "        h.SetLineColor(colors[i])\n",
    "        h.SetLineWidth(2)\n",
    "        # -- 여기에 Title 및 축 라벨 지정 --\n",
    "        h.GetXaxis().SetTitleOffset(1.2)\n",
    "        h.GetYaxis().SetTitleOffset(1.5)\n",
    "        hists.append((geom, h))\n",
    "        f.Close()\n",
    "\n",
    "    c = ROOT.TCanvas('', '', 800, 600)\n",
    "    # y축 범위\n",
    "    hists[0][1].GetYaxis().SetRangeUser(0.58, 1.02)\n",
    "\n",
    "    # 첫 번째 히스토그램부터 그리기\n",
    "    for idx, (_, h) in enumerate(hists):\n",
    "        draw_opt = 'HIST E1' if idx == 0 else 'HIST E1 SAME'\n",
    "        h.Draw(draw_opt)\n",
    "\n",
    "    # -- legend 크기(박스 및 글씨) 키우기 --\n",
    "    l = ROOT.TLegend(0.40, 0.15, 0.88, 0.45)  # 박스 좌표를 아래로/아래로 확장\n",
    "    l.SetTextSize(0.03)                       # 글씨 크기 크게\n",
    "    l.SetBorderSize(1)\n",
    "    for geom, h in hists:\n",
    "        l.AddEntry(h, geom, 'l')\n",
    "    l.Draw()\n",
    "\n",
    "    # (기존 TPaveText 대신 TLatex로 Canvas 상단 중앙에 Title 추가)\n",
    "    #title = ROOT.TLatex()\n",
    "    #title.SetNDC()\n",
    "    #title.SetTextAlign(22)   # 중앙 정렬\n",
    "    #title.SetTextSize(0.06)  # 제목 크기\n",
    "    #title.DrawLatex(0.5, 0.95, \"StandAloneMuon\")\n",
    "\n",
    "    ROOT.gStyle.SetOptStat(0)\n",
    "    c.Update()\n",
    "    c.SaveAs(f'{output_dir}/workaround-{sample}-{muon}.png')\n",
    "\n",
    "muon = 'globalMuons'\n",
    "#muon = 'standAloneMuons'\n",
    "output_dir = 'dqm-plot'\n",
    "\n",
    "samples = [\n",
    "    '2025-mu-pt10',\n",
    "    '2025-mu-pt100',\n",
    "    '2025-mu-pt1000',\n",
    "    #'2025-ZMM',\n",
    "]\n",
    "geometries = [\n",
    "    'current-geometry',\n",
    "    #'iRPC-added-geometry'\n",
    "    'target-geometry',\n",
    "    'target-geometry-exclude-iRPCSimHits'\n",
    "]\n",
    "#print(samples)\n",
    "#print(geometries)\n",
    "\n",
    "plot_muon_eff_vs_eta(samples[0], geometries, muon, output_dir)\n",
    "\n"
   ]
  }
 ],
 "metadata": {
  "kernelspec": {
   "display_name": "root-py39",
   "language": "python",
   "name": "python3"
  },
  "language_info": {
   "codemirror_mode": {
    "name": "ipython",
    "version": 3
   },
   "file_extension": ".py",
   "mimetype": "text/x-python",
   "name": "python",
   "nbconvert_exporter": "python",
   "pygments_lexer": "ipython3",
   "version": "3.9.21"
  }
 },
 "nbformat": 4,
 "nbformat_minor": 2
}
