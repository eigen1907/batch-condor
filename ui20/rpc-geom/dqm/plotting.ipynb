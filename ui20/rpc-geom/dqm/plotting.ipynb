{
 "cells": [
  {
   "cell_type": "code",
   "execution_count": 1,
   "metadata": {},
   "outputs": [
    {
     "name": "stderr",
     "output_type": "stream",
     "text": [
      "C system headers (glibc/Xcode/Windows SDK) must be installed.\n",
      "In file included from input_line_4:36:\n",
      "/cms/ldap_home/sjws5411/micromamba/envs/root-py39/bin/../lib/gcc/x86_64-conda-linux-gnu/13.3.0/include/c++/cassert:44:10: fatal error: 'assert.h' file not found\n",
      "#include <assert.h>\n",
      "         ^~~~~~~~~~\n",
      "input_line_37:1:10: fatal error: 'dlfcn.h' file not found\n",
      "#include \"dlfcn.h\"\n",
      "         ^~~~~~~~~\n"
     ]
    }
   ],
   "source": [
    "import ROOT"
   ]
  },
  {
   "cell_type": "code",
   "execution_count": 8,
   "metadata": {},
   "outputs": [
    {
     "name": "stdout",
     "output_type": "stream",
     "text": [
      "TH1.Print Name  = effic_vs_eta, Entries= 940591, Total sum= 46.3611\n",
      "TH1.Print Name  = effic_vs_eta, Entries= 940953, Total sum= 46.2606\n",
      "TH1.Print Name  = effic_vs_eta, Entries= 940737, Total sum= 46.2764\n",
      "TH1.Print Name  = effic_vs_eta, Entries= 960050, Total sum= 46.2753\n"
     ]
    },
    {
     "name": "stderr",
     "output_type": "stream",
     "text": [
      "Warning in <TCanvas::Delete()>: may not use this method\n",
      "Warning in <TCanvas::Constructor>: Deleting canvas with same name: canvas\n",
      "Info in <TCanvas::Print>: png file dqm-plot/test.png has been created\n"
     ]
    }
   ],
   "source": [
    "samples = ['2025-mu-pt10', '2025-mu-pt100', '2025-mu-pt1000']\n",
    "geometries = ['current-geometry', 'iRPC-added-geometry', 'target-geometry', 'target-geometry-change-matching']\n",
    "\n",
    "sample = samples[1]\n",
    "\n",
    "file1 = ROOT.TFile(f\"dqm-output/{sample}-{geometries[0]}.root\")\n",
    "file2 = ROOT.TFile(f\"dqm-output/{sample}-{geometries[1]}.root\")\n",
    "file3 = ROOT.TFile(f\"dqm-output/{sample}-{geometries[2]}.root\")\n",
    "file4 = ROOT.TFile(f\"dqm-output/{sample}-{geometries[3]}.root\")\n",
    "\n",
    "muons = ['standAloneMuons', 'globalMuons']\n",
    "muon = muons[0]\n",
    "#hist_name = 'DQMData/Run 1/Muons/Run summary/RecoMuonV/MuonTrack/globalMuons/effic_vs_eta'\n",
    "#hist_name = 'DQMData/Run 1/Muons/Run summary/RecoMuonV/MuonTrack/standAloneMuons/effic_vs_eta'\n",
    "hist_name = f'DQMData/Run 1/Muons/Run summary/RecoMuonV/MuonTrack/{muon}/effic_vs_eta'\n",
    "\n",
    "hist1 = file1.Get(hist_name)\n",
    "hist2 = file2.Get(hist_name)\n",
    "hist3 = file3.Get(hist_name)\n",
    "hist4 = file4.Get(hist_name)\n",
    "\n",
    "hist1.SetLineColor(ROOT.kBlack)\n",
    "hist2.SetLineColor(ROOT.kBlue)\n",
    "hist3.SetLineColor(ROOT.kRed)\n",
    "hist4.SetLineColor(ROOT.kGreen)\n",
    "\n",
    "hist1.SetLineWidth(1)\n",
    "hist2.SetLineWidth(1)\n",
    "hist3.SetLineWidth(1)\n",
    "hist4.SetLineWidth(1)\n",
    "\n",
    "canvas.Delete()\n",
    "canvas = ROOT.TCanvas(\"canvas\", \"Histogram\", 800, 600)\n",
    "\n",
    "hist1.GetYaxis().SetRangeUser(0.58, 1.02)\n",
    "\n",
    "hist1.Draw(\"HIST E1\")\n",
    "hist2.Draw(\"HIST E1 SAME\")\n",
    "hist3.Draw(\"HIST E1 SAME\")\n",
    "hist4.Draw(\"HIST E1 SAME\")\n",
    "\n",
    "legend = ROOT.TLegend(0.55, 0.2, 0.85, 0.35)\n",
    "\n",
    "ptitle = ROOT.TPaveText(0.15, 0.2, 0.45, 0.35, \"NDC\")\n",
    "ptitle.SetFillColor(0)\n",
    "ptitle.SetBorderSize(1)\n",
    "\n",
    "ptitle.AddText(f\"{muon} Eff vs eta\")\n",
    "ptitle.AddText(f\"SingleMu, pT: {sample[11:]} GeV\")\n",
    "ptitle.AddText(\"Events: 1,000,000\")\n",
    "ptitle.Draw()\n",
    "\n",
    "ROOT.gStyle.SetOptStat(0)\n",
    "\n",
    "legend.AddEntry(hist1, geometries[0], \"l\")\n",
    "legend.AddEntry(hist2, geometries[1], \"l\")\n",
    "legend.AddEntry(hist3, geometries[2], \"l\")\n",
    "legend.AddEntry(hist4, geometries[3], \"l\")\n",
    "legend.Draw()\n",
    "\n",
    "hist1.Print(\"Entries\")\n",
    "hist2.Print(\"Entries\")\n",
    "hist3.Print(\"Entries\")\n",
    "hist4.Print(\"Entries\")\n",
    "\n",
    "canvas.Update()\n",
    "canvas.SaveAs(f\"dqm-plot/test.png\")"
   ]
  }
 ],
 "metadata": {
  "kernelspec": {
   "display_name": "root-py39",
   "language": "python",
   "name": "python3"
  },
  "language_info": {
   "codemirror_mode": {
    "name": "ipython",
    "version": 3
   },
   "file_extension": ".py",
   "mimetype": "text/x-python",
   "name": "python",
   "nbconvert_exporter": "python",
   "pygments_lexer": "ipython3",
   "version": "3.9.21"
  }
 },
 "nbformat": 4,
 "nbformat_minor": 2
}
